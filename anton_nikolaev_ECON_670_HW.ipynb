{
  "nbformat": 4,
  "nbformat_minor": 0,
  "metadata": {
    "colab": {
      "name": "ECON_670_HW.ipynb",
      "version": "0.3.2",
      "views": {},
      "default_view": {},
      "provenance": [],
      "toc_visible": true
    },
    "kernelspec": {
      "name": "python3",
      "display_name": "Python 3"
    },
    "accelerator": "GPU"
  },
  "cells": [
    {
      "metadata": {
        "id": "i4Kegvvqt-DR",
        "colab_type": "text"
      },
      "cell_type": "markdown",
      "source": [
        "# Intro"
      ]
    },
    {
      "metadata": {
        "id": "CW0lun_euB7u",
        "colab_type": "text"
      },
      "cell_type": "markdown",
      "source": [
        "This is a replication of the 1995 paper by Blackburn and Neumark investigating bias in wage OLS estimations. The main delivery is that significant part of the bias is due to not taking into account the cognitive abilities. Once the estimates of cognitive abilities are takes as the controls in the regression, the strength of the education effect drops by around 40%."
      ]
    },
    {
      "metadata": {
        "id": "O-JMVsVfxo7q",
        "colab_type": "text"
      },
      "cell_type": "markdown",
      "source": [
        "### Data\n",
        "NLSY 1979 is used for the research. To get the estimates of cognitive abilities, ASVAB test scores are regressed on the age so we avoid age bias, since the test is administered independent of the age of respondents. Then these estimates are used as controls. In this replication I use aggregated ASVAB residual score, which is different from the original research, that uses separate score residuals for each of ASVAB tests. Another difference is the year of data used.\n",
        "To get aggregated experience I sum up the experience of all previous years for the respondents. Union coverage is derived by identifying whether the respondent had coverage from any of 13 employers.\n",
        "Another controls are - ethnicity, SMSA residence, tenure, marital status, age, in some regressions - squared experience and age.\n",
        "Since strong gender bias in the market is present, regressions are run separate for genders."
      ]
    },
    {
      "metadata": {
        "id": "FVXKp2J1tWuT",
        "colab_type": "text"
      },
      "cell_type": "markdown",
      "source": [
        "## Uploading the file\n",
        "In this section I upload the necessary libraries and the files with NLSY79 data."
      ]
    },
    {
      "metadata": {
        "id": "qKhU-5Y2FRcn",
        "colab_type": "code",
        "colab": {
          "autoexec": {
            "startup": false,
            "wait_interval": 0
          }
        }
      },
      "cell_type": "code",
      "source": [
        "import pandas as pd\n",
        "import numpy as np\n",
        "import statsmodels.formula.api as smf"
      ],
      "execution_count": 0,
      "outputs": []
    },
    {
      "metadata": {
        "id": "MakPsLXNFW4r",
        "colab_type": "code",
        "colab": {
          "autoexec": {
            "startup": false,
            "wait_interval": 0
          },
          "output_extras": [
            {
              "item_id": 1
            }
          ],
          "resources": {
            "http://localhost:8080/nbextensions/google.colab/files.js": {
              "data": "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",
              "ok": true,
              "headers": [
                [
                  "content-type",
                  "application/javascript"
                ]
              ],
              "status": 200,
              "status_text": ""
            }
          },
          "base_uri": "https://localhost:8080/",
          "height": 38
        },
        "outputId": "9abc9746-adbf-4bf6-f3dd-9ea2f55ed7df",
        "executionInfo": {
          "status": "ok",
          "timestamp": 1521814476161,
          "user_tz": 600,
          "elapsed": 12734,
          "user": {
            "displayName": "Антон Николаев",
            "photoUrl": "https://lh3.googleusercontent.com/a/default-user=s128",
            "userId": "102661074732783089533"
          }
        }
      },
      "cell_type": "code",
      "source": [
        "from google.colab import files\n",
        "\n",
        "uploaded = files.upload()\n",
        "\n",
        "\n",
        "for n, f in uploaded.items():\n",
        "  with open(n,'wb') as file:\n",
        "    file.write(f)\n",
        "\n",
        "varMap = {'CPSHRP': 'wage',\n",
        "          'FAM-1B': 'age',\n",
        "          'Q15-1': 'ethnicity',\n",
        "          'SMSARES': 'smsa',\n",
        "          'MARSTAT-COL': 'marriage',\n",
        "          'HGC': 'educ',\n",
        "          'WKSWK-SLI': 'weeksWorked',\n",
        "          'AFQT-1': 'testScore',\n",
        "          'EMPLOYERS_ALL_UNION_1981.10': 'EMPLOYERS_ALL_UNION_1981.010',\n",
        "          'EMPLOYERS_ALL_UNION_1981.11': 'EMPLOYERS_ALL_UNION_1981.011',\n",
        "          'EMPLOYERS_ALL_UNION_1981.12': 'EMPLOYERS_ALL_UNION_1981.012',\n",
        "          'EMPLOYERS_ALL_UNION_1981.13': 'EMPLOYERS_ALL_UNION_1981.013',\n",
        "          'ASVAB-3': 'ASVABa',\n",
        "          'ASVAB-4': 'ASVABb',\n",
        "          'ASVAB-5': 'ASVABc',\n",
        "          'ASVAB-6': 'ASVABd',\n",
        "          'ASVAB-7': 'ASVABe',\n",
        "          'ASVAB-8': 'ASVABf',\n",
        "          'ASVAB-9': 'ASVABg',\n",
        "          'ASVAB-10': 'ASVABh',}"
      ],
      "execution_count": 4,
      "outputs": [
        {
          "output_type": "display_data",
          "data": {
            "text/html": [
              "\n",
              "     <input type=\"file\" id=\"files-7b06a0ba-c9b0-4fd6-adc6-c0d2b73dbf51\" name=\"files[]\" multiple disabled />\n",
              "     <output id=\"result-7b06a0ba-c9b0-4fd6-adc6-c0d2b73dbf51\">\n",
              "      Upload widget is only available when the cell has been executed in the\n",
              "      current browser session. Please rerun this cell to enable.\n",
              "      </output>\n",
              "      <script src=\"/nbextensions/google.colab/files.js\"></script> "
            ],
            "text/plain": [
              "<IPython.core.display.HTML object>"
            ]
          },
          "metadata": {
            "tags": []
          }
        }
      ]
    },
    {
      "metadata": {
        "id": "Byhy7sLBtcyv",
        "colab_type": "text"
      },
      "cell_type": "markdown",
      "source": [
        "## Data preprocessing\n",
        "\n",
        "In this section I aggregate different union coverages to find if the respondent has any, do aggregation of the ASVAB scores, calculate tenure, total experience, find squared experience and squared age. Then I get rid of the variables I am not using directly in the regressions and get rid of the observations with missing values."
      ]
    },
    {
      "metadata": {
        "id": "vrbeOu4Mr3Zx",
        "colab_type": "code",
        "colab": {
          "autoexec": {
            "startup": false,
            "wait_interval": 0
          }
        }
      },
      "cell_type": "code",
      "source": [
        "def unionCheck(x):\n",
        "  check = 0\n",
        "  for idx in range(1, 14):\n",
        "    if x['EMPLOYERS_ALL_UNION_1981.0' + str(idx)] == 1:\n",
        "      check = 1\n",
        "  return check\n",
        "\n",
        "def asvabAggregation(x):\n",
        "  return sum([x['ASVAB-' + str(i)] if x['ASVAB-' + str(i)] > 0 else 0 for i in range(3, 11)])\n",
        "\n",
        "def tenureCollapse(x):\n",
        "  return sum([x['EMPLOYERS_ALL_TENURE_19' + str(i + 79) + '.01'] if x['EMPLOYERS_ALL_TENURE_19' + str(i + 79) + '.01'] > 0 else 0 for i in range(3)])\n",
        "\n",
        "def totalExperience(x):\n",
        "  return (x['WKSWK-SLI.1'] if x['WKSWK-SLI.1'] > 0 else 0) + (x['WKSWK-SLI.2'] if x['WKSWK-SLI.2'] > 0 else 0) + (x['weeksWorked'] if x['weeksWorked'] > 0 else 0)\n"
      ],
      "execution_count": 0,
      "outputs": []
    },
    {
      "metadata": {
        "id": "uAKnoI-oFcGG",
        "colab_type": "code",
        "colab": {
          "autoexec": {
            "startup": false,
            "wait_interval": 0
          },
          "output_extras": [
            {
              "item_id": 1
            }
          ],
          "base_uri": "https://localhost:8080/",
          "height": 252
        },
        "outputId": "1c20dc78-3c34-4565-d578-b14d66ca5785",
        "executionInfo": {
          "status": "ok",
          "timestamp": 1521814480868,
          "user_tz": 600,
          "elapsed": 3908,
          "user": {
            "displayName": "Антон Николаев",
            "photoUrl": "https://lh3.googleusercontent.com/a/default-user=s128",
            "userId": "102661074732783089533"
          }
        }
      },
      "cell_type": "code",
      "source": [
        "df = pd.read_csv('oneMore.csv')\n",
        "df.rename(columns = varMap, inplace = True)\n",
        "df['unionCoverage'] = df.apply(unionCheck, axis = 1)\n",
        "df['experience'] = df.apply(totalExperience, axis = 1)\n",
        "df['experience'] = df.experience / float(max(df.experience))\n",
        "df['tenure'] = df.apply(tenureCollapse, axis = 1)\n",
        "# df['cogAbilities'] = df.apply(asvabAggregation, axis = 1)\n",
        "df.drop(labels = [c for c in df.columns if c[:17] == 'EMPLOYERS_ALL_TEN'], axis = 1, inplace = True)\n",
        "df.drop(labels = ['EMPLOYERS_ALL_UNION_1981.0' + str(idx) for idx in range(1, 14)], axis = 1, inplace = True)\n",
        "df.drop(labels = ['WKSWK-SLI.1', 'WKSWK-SLI.2', 'weeksWorked'], axis = 1, inplace = True)\n",
        "# df.drop(labels = ['ASVAB-' + str(i) for i in range(3, 11)], axis = 1, inplace = True)\n",
        "df = df.replace([-5, -4, -3, -2, -1], np.nan)\n",
        "df.dropna(axis = 0, inplace = True)\n",
        "\n",
        "df['logWage'] = df.wage.apply(np.log)\n",
        "df['white'] = df.ethnicity.apply(lambda x:  1 if x == 1 else 0)\n",
        "df['black'] = df.ethnicity.apply(lambda x: 1 if x == 2 else 0)\n",
        "df['hispanic'] = df.ethnicity.apply(lambda x: 1 if x == 3 else 0)\n",
        "df['smsaDummy'] = df.smsa.apply(lambda x: 1 if x == 0 else 0)\n",
        "\n",
        "df['expSq'] = df.experience.apply(lambda x: x ** 2)\n",
        "df['ageSq'] = df.age.apply(lambda x: x ** 2)\n",
        "\n",
        "df.head(5)"
      ],
      "execution_count": 6,
      "outputs": [
        {
          "output_type": "execute_result",
          "data": {
            "text/html": [
              "<div>\n",
              "<style scoped>\n",
              "    .dataframe tbody tr th:only-of-type {\n",
              "        vertical-align: middle;\n",
              "    }\n",
              "\n",
              "    .dataframe tbody tr th {\n",
              "        vertical-align: top;\n",
              "    }\n",
              "\n",
              "    .dataframe thead th {\n",
              "        text-align: right;\n",
              "    }\n",
              "</style>\n",
              "<table border=\"1\" class=\"dataframe\">\n",
              "  <thead>\n",
              "    <tr style=\"text-align: right;\">\n",
              "      <th></th>\n",
              "      <th>CASEID</th>\n",
              "      <th>ethnicity</th>\n",
              "      <th>SAMPLE_SEX</th>\n",
              "      <th>age</th>\n",
              "      <th>ASVABa</th>\n",
              "      <th>ASVABb</th>\n",
              "      <th>ASVABc</th>\n",
              "      <th>ASVABd</th>\n",
              "      <th>ASVABe</th>\n",
              "      <th>ASVABf</th>\n",
              "      <th>...</th>\n",
              "      <th>unionCoverage</th>\n",
              "      <th>experience</th>\n",
              "      <th>tenure</th>\n",
              "      <th>logWage</th>\n",
              "      <th>white</th>\n",
              "      <th>black</th>\n",
              "      <th>hispanic</th>\n",
              "      <th>smsaDummy</th>\n",
              "      <th>expSq</th>\n",
              "      <th>ageSq</th>\n",
              "    </tr>\n",
              "  </thead>\n",
              "  <tbody>\n",
              "    <tr>\n",
              "      <th>1</th>\n",
              "      <td>2</td>\n",
              "      <td>1.0</td>\n",
              "      <td>2</td>\n",
              "      <td>22.0</td>\n",
              "      <td>6.0</td>\n",
              "      <td>8.0</td>\n",
              "      <td>15.0</td>\n",
              "      <td>6.0</td>\n",
              "      <td>29.0</td>\n",
              "      <td>52.0</td>\n",
              "      <td>...</td>\n",
              "      <td>0</td>\n",
              "      <td>0.806630</td>\n",
              "      <td>283.0</td>\n",
              "      <td>6.347389</td>\n",
              "      <td>1</td>\n",
              "      <td>0</td>\n",
              "      <td>0</td>\n",
              "      <td>0</td>\n",
              "      <td>0.650652</td>\n",
              "      <td>484.0</td>\n",
              "    </tr>\n",
              "    <tr>\n",
              "      <th>3</th>\n",
              "      <td>4</td>\n",
              "      <td>1.0</td>\n",
              "      <td>2</td>\n",
              "      <td>18.0</td>\n",
              "      <td>15.0</td>\n",
              "      <td>18.0</td>\n",
              "      <td>29.0</td>\n",
              "      <td>12.0</td>\n",
              "      <td>46.0</td>\n",
              "      <td>62.0</td>\n",
              "      <td>...</td>\n",
              "      <td>0</td>\n",
              "      <td>0.000000</td>\n",
              "      <td>0.0</td>\n",
              "      <td>5.828946</td>\n",
              "      <td>1</td>\n",
              "      <td>0</td>\n",
              "      <td>0</td>\n",
              "      <td>0</td>\n",
              "      <td>0.000000</td>\n",
              "      <td>324.0</td>\n",
              "    </tr>\n",
              "    <tr>\n",
              "      <th>4</th>\n",
              "      <td>5</td>\n",
              "      <td>1.0</td>\n",
              "      <td>1</td>\n",
              "      <td>21.0</td>\n",
              "      <td>25.0</td>\n",
              "      <td>30.0</td>\n",
              "      <td>35.0</td>\n",
              "      <td>13.0</td>\n",
              "      <td>35.0</td>\n",
              "      <td>55.0</td>\n",
              "      <td>...</td>\n",
              "      <td>1</td>\n",
              "      <td>0.850829</td>\n",
              "      <td>338.0</td>\n",
              "      <td>6.109248</td>\n",
              "      <td>1</td>\n",
              "      <td>0</td>\n",
              "      <td>0</td>\n",
              "      <td>0</td>\n",
              "      <td>0.723910</td>\n",
              "      <td>441.0</td>\n",
              "    </tr>\n",
              "    <tr>\n",
              "      <th>5</th>\n",
              "      <td>6</td>\n",
              "      <td>1.0</td>\n",
              "      <td>1</td>\n",
              "      <td>20.0</td>\n",
              "      <td>23.0</td>\n",
              "      <td>30.0</td>\n",
              "      <td>35.0</td>\n",
              "      <td>15.0</td>\n",
              "      <td>45.0</td>\n",
              "      <td>68.0</td>\n",
              "      <td>...</td>\n",
              "      <td>1</td>\n",
              "      <td>0.408840</td>\n",
              "      <td>16.0</td>\n",
              "      <td>5.814131</td>\n",
              "      <td>1</td>\n",
              "      <td>0</td>\n",
              "      <td>0</td>\n",
              "      <td>0</td>\n",
              "      <td>0.167150</td>\n",
              "      <td>400.0</td>\n",
              "    </tr>\n",
              "    <tr>\n",
              "      <th>7</th>\n",
              "      <td>8</td>\n",
              "      <td>1.0</td>\n",
              "      <td>2</td>\n",
              "      <td>22.0</td>\n",
              "      <td>18.0</td>\n",
              "      <td>13.0</td>\n",
              "      <td>35.0</td>\n",
              "      <td>12.0</td>\n",
              "      <td>24.0</td>\n",
              "      <td>48.0</td>\n",
              "      <td>...</td>\n",
              "      <td>0</td>\n",
              "      <td>0.469613</td>\n",
              "      <td>185.0</td>\n",
              "      <td>6.131226</td>\n",
              "      <td>1</td>\n",
              "      <td>0</td>\n",
              "      <td>0</td>\n",
              "      <td>0</td>\n",
              "      <td>0.220537</td>\n",
              "      <td>484.0</td>\n",
              "    </tr>\n",
              "  </tbody>\n",
              "</table>\n",
              "<p>5 rows × 26 columns</p>\n",
              "</div>"
            ],
            "text/plain": [
              "   CASEID  ethnicity  SAMPLE_SEX   age  ASVABa  ASVABb  ASVABc  ASVABd  \\\n",
              "1       2        1.0           2  22.0     6.0     8.0    15.0     6.0   \n",
              "3       4        1.0           2  18.0    15.0    18.0    29.0    12.0   \n",
              "4       5        1.0           1  21.0    25.0    30.0    35.0    13.0   \n",
              "5       6        1.0           1  20.0    23.0    30.0    35.0    15.0   \n",
              "7       8        1.0           2  22.0    18.0    13.0    35.0    12.0   \n",
              "\n",
              "   ASVABe  ASVABf  ...    unionCoverage  experience  tenure   logWage  white  \\\n",
              "1    29.0    52.0  ...                0    0.806630   283.0  6.347389      1   \n",
              "3    46.0    62.0  ...                0    0.000000     0.0  5.828946      1   \n",
              "4    35.0    55.0  ...                1    0.850829   338.0  6.109248      1   \n",
              "5    45.0    68.0  ...                1    0.408840    16.0  5.814131      1   \n",
              "7    24.0    48.0  ...                0    0.469613   185.0  6.131226      1   \n",
              "\n",
              "   black  hispanic  smsaDummy     expSq  ageSq  \n",
              "1      0         0          0  0.650652  484.0  \n",
              "3      0         0          0  0.000000  324.0  \n",
              "4      0         0          0  0.723910  441.0  \n",
              "5      0         0          0  0.167150  400.0  \n",
              "7      0         0          0  0.220537  484.0  \n",
              "\n",
              "[5 rows x 26 columns]"
            ]
          },
          "metadata": {
            "tags": []
          },
          "execution_count": 6
        }
      ]
    },
    {
      "metadata": {
        "id": "BVK9kz72TFoq",
        "colab_type": "code",
        "colab": {
          "autoexec": {
            "startup": false,
            "wait_interval": 0
          },
          "output_extras": [
            {
              "item_id": 1
            }
          ],
          "base_uri": "https://localhost:8080/",
          "height": 222
        },
        "outputId": "3e6cb19e-f45a-4ab9-a6ad-6695b445fc16",
        "executionInfo": {
          "status": "ok",
          "timestamp": 1521814482037,
          "user_tz": 600,
          "elapsed": 575,
          "user": {
            "displayName": "Антон Николаев",
            "photoUrl": "https://lh3.googleusercontent.com/a/default-user=s128",
            "userId": "102661074732783089533"
          }
        }
      },
      "cell_type": "code",
      "source": [
        "for i in 'abcdefgh':\n",
        "  model = 'ASVAB' + str(i) + ' ~ age'\n",
        "  cognitiveModel = smf.ols(model, data = df).fit()\n",
        "  df['cognitive' + str(i)] = cognitiveModel.resid\n",
        "  \n",
        "df['cognitiveAbilities'] = sum([df['cognitive' + str(i)] for i in 'abcdefgh'])\n",
        "df.drop(labels = ['ASVAB' + str(i) for i in 'abcdefgh'], axis = 1, inplace = True)\n",
        "df.drop(labels = ['cognitive' + str(i) for i in 'abcdefgh'], axis = 1, inplace = True)\n",
        "df.head(5)"
      ],
      "execution_count": 7,
      "outputs": [
        {
          "output_type": "execute_result",
          "data": {
            "text/html": [
              "<div>\n",
              "<style scoped>\n",
              "    .dataframe tbody tr th:only-of-type {\n",
              "        vertical-align: middle;\n",
              "    }\n",
              "\n",
              "    .dataframe tbody tr th {\n",
              "        vertical-align: top;\n",
              "    }\n",
              "\n",
              "    .dataframe thead th {\n",
              "        text-align: right;\n",
              "    }\n",
              "</style>\n",
              "<table border=\"1\" class=\"dataframe\">\n",
              "  <thead>\n",
              "    <tr style=\"text-align: right;\">\n",
              "      <th></th>\n",
              "      <th>CASEID</th>\n",
              "      <th>ethnicity</th>\n",
              "      <th>SAMPLE_SEX</th>\n",
              "      <th>age</th>\n",
              "      <th>marriage</th>\n",
              "      <th>educ</th>\n",
              "      <th>smsa</th>\n",
              "      <th>wage</th>\n",
              "      <th>unionCoverage</th>\n",
              "      <th>experience</th>\n",
              "      <th>tenure</th>\n",
              "      <th>logWage</th>\n",
              "      <th>white</th>\n",
              "      <th>black</th>\n",
              "      <th>hispanic</th>\n",
              "      <th>smsaDummy</th>\n",
              "      <th>expSq</th>\n",
              "      <th>ageSq</th>\n",
              "      <th>cognitiveAbilities</th>\n",
              "    </tr>\n",
              "  </thead>\n",
              "  <tbody>\n",
              "    <tr>\n",
              "      <th>1</th>\n",
              "      <td>2</td>\n",
              "      <td>1.0</td>\n",
              "      <td>2</td>\n",
              "      <td>22.0</td>\n",
              "      <td>1.0</td>\n",
              "      <td>9.0</td>\n",
              "      <td>3.0</td>\n",
              "      <td>571.0</td>\n",
              "      <td>0</td>\n",
              "      <td>0.806630</td>\n",
              "      <td>283.0</td>\n",
              "      <td>6.347389</td>\n",
              "      <td>1</td>\n",
              "      <td>0</td>\n",
              "      <td>0</td>\n",
              "      <td>0</td>\n",
              "      <td>0.650652</td>\n",
              "      <td>484.0</td>\n",
              "      <td>-46.619455</td>\n",
              "    </tr>\n",
              "    <tr>\n",
              "      <th>3</th>\n",
              "      <td>4</td>\n",
              "      <td>1.0</td>\n",
              "      <td>2</td>\n",
              "      <td>18.0</td>\n",
              "      <td>2.0</td>\n",
              "      <td>9.0</td>\n",
              "      <td>2.0</td>\n",
              "      <td>340.0</td>\n",
              "      <td>0</td>\n",
              "      <td>0.000000</td>\n",
              "      <td>0.0</td>\n",
              "      <td>5.828946</td>\n",
              "      <td>1</td>\n",
              "      <td>0</td>\n",
              "      <td>0</td>\n",
              "      <td>0</td>\n",
              "      <td>0.000000</td>\n",
              "      <td>324.0</td>\n",
              "      <td>43.261043</td>\n",
              "    </tr>\n",
              "    <tr>\n",
              "      <th>4</th>\n",
              "      <td>5</td>\n",
              "      <td>1.0</td>\n",
              "      <td>1</td>\n",
              "      <td>21.0</td>\n",
              "      <td>1.0</td>\n",
              "      <td>15.0</td>\n",
              "      <td>1.0</td>\n",
              "      <td>450.0</td>\n",
              "      <td>1</td>\n",
              "      <td>0.850829</td>\n",
              "      <td>338.0</td>\n",
              "      <td>6.109248</td>\n",
              "      <td>1</td>\n",
              "      <td>0</td>\n",
              "      <td>0</td>\n",
              "      <td>0</td>\n",
              "      <td>0.723910</td>\n",
              "      <td>441.0</td>\n",
              "      <td>59.850669</td>\n",
              "    </tr>\n",
              "    <tr>\n",
              "      <th>5</th>\n",
              "      <td>6</td>\n",
              "      <td>1.0</td>\n",
              "      <td>1</td>\n",
              "      <td>20.0</td>\n",
              "      <td>1.0</td>\n",
              "      <td>14.0</td>\n",
              "      <td>2.0</td>\n",
              "      <td>335.0</td>\n",
              "      <td>1</td>\n",
              "      <td>0.408840</td>\n",
              "      <td>16.0</td>\n",
              "      <td>5.814131</td>\n",
              "      <td>1</td>\n",
              "      <td>0</td>\n",
              "      <td>0</td>\n",
              "      <td>0</td>\n",
              "      <td>0.167150</td>\n",
              "      <td>400.0</td>\n",
              "      <td>91.320794</td>\n",
              "    </tr>\n",
              "    <tr>\n",
              "      <th>7</th>\n",
              "      <td>8</td>\n",
              "      <td>1.0</td>\n",
              "      <td>2</td>\n",
              "      <td>22.0</td>\n",
              "      <td>2.0</td>\n",
              "      <td>12.0</td>\n",
              "      <td>1.0</td>\n",
              "      <td>460.0</td>\n",
              "      <td>0</td>\n",
              "      <td>0.469613</td>\n",
              "      <td>185.0</td>\n",
              "      <td>6.131226</td>\n",
              "      <td>1</td>\n",
              "      <td>0</td>\n",
              "      <td>0</td>\n",
              "      <td>0</td>\n",
              "      <td>0.220537</td>\n",
              "      <td>484.0</td>\n",
              "      <td>-12.619455</td>\n",
              "    </tr>\n",
              "  </tbody>\n",
              "</table>\n",
              "</div>"
            ],
            "text/plain": [
              "   CASEID  ethnicity  SAMPLE_SEX   age  marriage  educ  smsa   wage  \\\n",
              "1       2        1.0           2  22.0       1.0   9.0   3.0  571.0   \n",
              "3       4        1.0           2  18.0       2.0   9.0   2.0  340.0   \n",
              "4       5        1.0           1  21.0       1.0  15.0   1.0  450.0   \n",
              "5       6        1.0           1  20.0       1.0  14.0   2.0  335.0   \n",
              "7       8        1.0           2  22.0       2.0  12.0   1.0  460.0   \n",
              "\n",
              "   unionCoverage  experience  tenure   logWage  white  black  hispanic  \\\n",
              "1              0    0.806630   283.0  6.347389      1      0         0   \n",
              "3              0    0.000000     0.0  5.828946      1      0         0   \n",
              "4              1    0.850829   338.0  6.109248      1      0         0   \n",
              "5              1    0.408840    16.0  5.814131      1      0         0   \n",
              "7              0    0.469613   185.0  6.131226      1      0         0   \n",
              "\n",
              "   smsaDummy     expSq  ageSq  cognitiveAbilities  \n",
              "1          0  0.650652  484.0          -46.619455  \n",
              "3          0  0.000000  324.0           43.261043  \n",
              "4          0  0.723910  441.0           59.850669  \n",
              "5          0  0.167150  400.0           91.320794  \n",
              "7          0  0.220537  484.0          -12.619455  "
            ]
          },
          "metadata": {
            "tags": []
          },
          "execution_count": 7
        }
      ]
    },
    {
      "metadata": {
        "id": "JLmn_HdQhXAJ",
        "colab_type": "text"
      },
      "cell_type": "markdown",
      "source": [
        "Let's take a look at the dataset now!"
      ]
    },
    {
      "metadata": {
        "id": "_s3wdRFSFqpl",
        "colab_type": "code",
        "colab": {
          "autoexec": {
            "startup": false,
            "wait_interval": 0
          },
          "output_extras": [
            {
              "item_id": 1
            }
          ],
          "base_uri": "https://localhost:8080/",
          "height": 315
        },
        "outputId": "6f9b83cc-e825-49a0-894b-d0832c432da4",
        "executionInfo": {
          "status": "ok",
          "timestamp": 1521814482968,
          "user_tz": 600,
          "elapsed": 584,
          "user": {
            "displayName": "Антон Николаев",
            "photoUrl": "https://lh3.googleusercontent.com/a/default-user=s128",
            "userId": "102661074732783089533"
          }
        }
      },
      "cell_type": "code",
      "source": [
        "df = df[df.wage > 0]\n",
        "df = df[df.educ < 25]\n",
        "df = df[df.educ > 0]\n",
        "df = df[df.age > 0]\n",
        "df.describe()"
      ],
      "execution_count": 8,
      "outputs": [
        {
          "output_type": "execute_result",
          "data": {
            "text/html": [
              "<div>\n",
              "<style scoped>\n",
              "    .dataframe tbody tr th:only-of-type {\n",
              "        vertical-align: middle;\n",
              "    }\n",
              "\n",
              "    .dataframe tbody tr th {\n",
              "        vertical-align: top;\n",
              "    }\n",
              "\n",
              "    .dataframe thead th {\n",
              "        text-align: right;\n",
              "    }\n",
              "</style>\n",
              "<table border=\"1\" class=\"dataframe\">\n",
              "  <thead>\n",
              "    <tr style=\"text-align: right;\">\n",
              "      <th></th>\n",
              "      <th>CASEID</th>\n",
              "      <th>ethnicity</th>\n",
              "      <th>SAMPLE_SEX</th>\n",
              "      <th>age</th>\n",
              "      <th>marriage</th>\n",
              "      <th>educ</th>\n",
              "      <th>smsa</th>\n",
              "      <th>wage</th>\n",
              "      <th>unionCoverage</th>\n",
              "      <th>experience</th>\n",
              "      <th>tenure</th>\n",
              "      <th>logWage</th>\n",
              "      <th>white</th>\n",
              "      <th>black</th>\n",
              "      <th>hispanic</th>\n",
              "      <th>smsaDummy</th>\n",
              "      <th>expSq</th>\n",
              "      <th>ageSq</th>\n",
              "      <th>cognitiveAbilities</th>\n",
              "    </tr>\n",
              "  </thead>\n",
              "  <tbody>\n",
              "    <tr>\n",
              "      <th>count</th>\n",
              "      <td>8313.000000</td>\n",
              "      <td>8313.000000</td>\n",
              "      <td>8313.000000</td>\n",
              "      <td>8313.000000</td>\n",
              "      <td>8313.000000</td>\n",
              "      <td>8313.000000</td>\n",
              "      <td>8313.000000</td>\n",
              "      <td>8313.000000</td>\n",
              "      <td>8313.000000</td>\n",
              "      <td>8313.000000</td>\n",
              "      <td>8313.000000</td>\n",
              "      <td>8313.000000</td>\n",
              "      <td>8313.000000</td>\n",
              "      <td>8313.000000</td>\n",
              "      <td>8313.000000</td>\n",
              "      <td>8313.000000</td>\n",
              "      <td>8313.000000</td>\n",
              "      <td>8313.000000</td>\n",
              "      <td>8313.000000</td>\n",
              "    </tr>\n",
              "    <tr>\n",
              "      <th>mean</th>\n",
              "      <td>5939.349814</td>\n",
              "      <td>1.320823</td>\n",
              "      <td>1.479249</td>\n",
              "      <td>19.789125</td>\n",
              "      <td>1.235054</td>\n",
              "      <td>11.726212</td>\n",
              "      <td>1.380849</td>\n",
              "      <td>487.833754</td>\n",
              "      <td>0.146999</td>\n",
              "      <td>0.453057</td>\n",
              "      <td>77.720919</td>\n",
              "      <td>6.068140</td>\n",
              "      <td>0.728858</td>\n",
              "      <td>0.221460</td>\n",
              "      <td>0.049681</td>\n",
              "      <td>0.264525</td>\n",
              "      <td>0.291281</td>\n",
              "      <td>396.729099</td>\n",
              "      <td>0.028496</td>\n",
              "    </tr>\n",
              "    <tr>\n",
              "      <th>std</th>\n",
              "      <td>3570.688459</td>\n",
              "      <td>0.563290</td>\n",
              "      <td>0.499599</td>\n",
              "      <td>2.262792</td>\n",
              "      <td>0.490122</td>\n",
              "      <td>1.854840</td>\n",
              "      <td>1.080842</td>\n",
              "      <td>275.582396</td>\n",
              "      <td>0.354126</td>\n",
              "      <td>0.293310</td>\n",
              "      <td>114.645558</td>\n",
              "      <td>0.510258</td>\n",
              "      <td>0.444576</td>\n",
              "      <td>0.415255</td>\n",
              "      <td>0.217299</td>\n",
              "      <td>0.441107</td>\n",
              "      <td>0.279478</td>\n",
              "      <td>89.630440</td>\n",
              "      <td>50.432817</td>\n",
              "    </tr>\n",
              "    <tr>\n",
              "      <th>min</th>\n",
              "      <td>2.000000</td>\n",
              "      <td>1.000000</td>\n",
              "      <td>1.000000</td>\n",
              "      <td>15.000000</td>\n",
              "      <td>1.000000</td>\n",
              "      <td>1.000000</td>\n",
              "      <td>0.000000</td>\n",
              "      <td>13.000000</td>\n",
              "      <td>0.000000</td>\n",
              "      <td>0.000000</td>\n",
              "      <td>0.000000</td>\n",
              "      <td>2.564949</td>\n",
              "      <td>0.000000</td>\n",
              "      <td>0.000000</td>\n",
              "      <td>0.000000</td>\n",
              "      <td>0.000000</td>\n",
              "      <td>0.000000</td>\n",
              "      <td>225.000000</td>\n",
              "      <td>-182.089580</td>\n",
              "    </tr>\n",
              "    <tr>\n",
              "      <th>25%</th>\n",
              "      <td>2903.000000</td>\n",
              "      <td>1.000000</td>\n",
              "      <td>1.000000</td>\n",
              "      <td>18.000000</td>\n",
              "      <td>1.000000</td>\n",
              "      <td>11.000000</td>\n",
              "      <td>0.000000</td>\n",
              "      <td>335.000000</td>\n",
              "      <td>0.000000</td>\n",
              "      <td>0.193370</td>\n",
              "      <td>10.000000</td>\n",
              "      <td>5.814131</td>\n",
              "      <td>0.000000</td>\n",
              "      <td>0.000000</td>\n",
              "      <td>0.000000</td>\n",
              "      <td>0.000000</td>\n",
              "      <td>0.037392</td>\n",
              "      <td>324.000000</td>\n",
              "      <td>-34.738957</td>\n",
              "    </tr>\n",
              "    <tr>\n",
              "      <th>50%</th>\n",
              "      <td>5641.000000</td>\n",
              "      <td>1.000000</td>\n",
              "      <td>1.000000</td>\n",
              "      <td>20.000000</td>\n",
              "      <td>1.000000</td>\n",
              "      <td>12.000000</td>\n",
              "      <td>1.000000</td>\n",
              "      <td>407.000000</td>\n",
              "      <td>0.000000</td>\n",
              "      <td>0.447514</td>\n",
              "      <td>26.000000</td>\n",
              "      <td>6.008813</td>\n",
              "      <td>1.000000</td>\n",
              "      <td>0.000000</td>\n",
              "      <td>0.000000</td>\n",
              "      <td>0.000000</td>\n",
              "      <td>0.200269</td>\n",
              "      <td>400.000000</td>\n",
              "      <td>5.380545</td>\n",
              "    </tr>\n",
              "    <tr>\n",
              "      <th>75%</th>\n",
              "      <td>8902.000000</td>\n",
              "      <td>2.000000</td>\n",
              "      <td>2.000000</td>\n",
              "      <td>22.000000</td>\n",
              "      <td>1.000000</td>\n",
              "      <td>12.000000</td>\n",
              "      <td>2.000000</td>\n",
              "      <td>563.000000</td>\n",
              "      <td>0.000000</td>\n",
              "      <td>0.712707</td>\n",
              "      <td>101.000000</td>\n",
              "      <td>6.333280</td>\n",
              "      <td>1.000000</td>\n",
              "      <td>0.000000</td>\n",
              "      <td>0.000000</td>\n",
              "      <td>1.000000</td>\n",
              "      <td>0.507952</td>\n",
              "      <td>484.000000</td>\n",
              "      <td>39.201292</td>\n",
              "    </tr>\n",
              "    <tr>\n",
              "      <th>max</th>\n",
              "      <td>12686.000000</td>\n",
              "      <td>3.000000</td>\n",
              "      <td>2.000000</td>\n",
              "      <td>24.000000</td>\n",
              "      <td>3.000000</td>\n",
              "      <td>18.000000</td>\n",
              "      <td>3.000000</td>\n",
              "      <td>7500.000000</td>\n",
              "      <td>1.000000</td>\n",
              "      <td>1.000000</td>\n",
              "      <td>1586.000000</td>\n",
              "      <td>8.922658</td>\n",
              "      <td>1.000000</td>\n",
              "      <td>1.000000</td>\n",
              "      <td>1.000000</td>\n",
              "      <td>1.000000</td>\n",
              "      <td>1.000000</td>\n",
              "      <td>576.000000</td>\n",
              "      <td>122.201292</td>\n",
              "    </tr>\n",
              "  </tbody>\n",
              "</table>\n",
              "</div>"
            ],
            "text/plain": [
              "             CASEID    ethnicity   SAMPLE_SEX          age     marriage  \\\n",
              "count   8313.000000  8313.000000  8313.000000  8313.000000  8313.000000   \n",
              "mean    5939.349814     1.320823     1.479249    19.789125     1.235054   \n",
              "std     3570.688459     0.563290     0.499599     2.262792     0.490122   \n",
              "min        2.000000     1.000000     1.000000    15.000000     1.000000   \n",
              "25%     2903.000000     1.000000     1.000000    18.000000     1.000000   \n",
              "50%     5641.000000     1.000000     1.000000    20.000000     1.000000   \n",
              "75%     8902.000000     2.000000     2.000000    22.000000     1.000000   \n",
              "max    12686.000000     3.000000     2.000000    24.000000     3.000000   \n",
              "\n",
              "              educ         smsa         wage  unionCoverage   experience  \\\n",
              "count  8313.000000  8313.000000  8313.000000    8313.000000  8313.000000   \n",
              "mean     11.726212     1.380849   487.833754       0.146999     0.453057   \n",
              "std       1.854840     1.080842   275.582396       0.354126     0.293310   \n",
              "min       1.000000     0.000000    13.000000       0.000000     0.000000   \n",
              "25%      11.000000     0.000000   335.000000       0.000000     0.193370   \n",
              "50%      12.000000     1.000000   407.000000       0.000000     0.447514   \n",
              "75%      12.000000     2.000000   563.000000       0.000000     0.712707   \n",
              "max      18.000000     3.000000  7500.000000       1.000000     1.000000   \n",
              "\n",
              "            tenure      logWage        white        black     hispanic  \\\n",
              "count  8313.000000  8313.000000  8313.000000  8313.000000  8313.000000   \n",
              "mean     77.720919     6.068140     0.728858     0.221460     0.049681   \n",
              "std     114.645558     0.510258     0.444576     0.415255     0.217299   \n",
              "min       0.000000     2.564949     0.000000     0.000000     0.000000   \n",
              "25%      10.000000     5.814131     0.000000     0.000000     0.000000   \n",
              "50%      26.000000     6.008813     1.000000     0.000000     0.000000   \n",
              "75%     101.000000     6.333280     1.000000     0.000000     0.000000   \n",
              "max    1586.000000     8.922658     1.000000     1.000000     1.000000   \n",
              "\n",
              "         smsaDummy        expSq        ageSq  cognitiveAbilities  \n",
              "count  8313.000000  8313.000000  8313.000000         8313.000000  \n",
              "mean      0.264525     0.291281   396.729099            0.028496  \n",
              "std       0.441107     0.279478    89.630440           50.432817  \n",
              "min       0.000000     0.000000   225.000000         -182.089580  \n",
              "25%       0.000000     0.037392   324.000000          -34.738957  \n",
              "50%       0.000000     0.200269   400.000000            5.380545  \n",
              "75%       1.000000     0.507952   484.000000           39.201292  \n",
              "max       1.000000     1.000000   576.000000          122.201292  "
            ]
          },
          "metadata": {
            "tags": []
          },
          "execution_count": 8
        }
      ]
    },
    {
      "metadata": {
        "id": "rnGSUUyftibK",
        "colab_type": "text"
      },
      "cell_type": "markdown",
      "source": [
        "## Building the models"
      ]
    },
    {
      "metadata": {
        "id": "GOQBW6d7dCy_",
        "colab_type": "text"
      },
      "cell_type": "markdown",
      "source": [
        "Next two cells do OLS on females and males respectively using only education as a regressor."
      ]
    },
    {
      "metadata": {
        "id": "nwscWwl9d4ba",
        "colab_type": "code",
        "colab": {
          "autoexec": {
            "startup": false,
            "wait_interval": 0
          },
          "output_extras": [
            {
              "item_id": 1
            }
          ],
          "base_uri": "https://localhost:8080/",
          "height": 474
        },
        "outputId": "6e66ca54-fc23-4d03-ab8b-09f9369a8acb",
        "executionInfo": {
          "status": "ok",
          "timestamp": 1521814484852,
          "user_tz": 600,
          "elapsed": 623,
          "user": {
            "displayName": "Антон Николаев",
            "photoUrl": "https://lh3.googleusercontent.com/a/default-user=s128",
            "userId": "102661074732783089533"
          }
        }
      },
      "cell_type": "code",
      "source": [
        "dfW = df[df.SAMPLE_SEX == 2]\n",
        "print(len(dfW))\n",
        "\n",
        "results = smf.ols('logWage ~ educ', data=dfW).fit()\n",
        "\n",
        "\n",
        "print(results.summary())"
      ],
      "execution_count": 9,
      "outputs": [
        {
          "output_type": "stream",
          "text": [
            "3984\n",
            "                            OLS Regression Results                            \n",
            "==============================================================================\n",
            "Dep. Variable:                logWage   R-squared:                       0.082\n",
            "Model:                            OLS   Adj. R-squared:                  0.081\n",
            "Method:                 Least Squares   F-statistic:                     353.4\n",
            "Date:                Fri, 23 Mar 2018   Prob (F-statistic):           1.33e-75\n",
            "Time:                        14:14:45   Log-Likelihood:                -2564.7\n",
            "No. Observations:                3984   AIC:                             5133.\n",
            "Df Residuals:                    3982   BIC:                             5146.\n",
            "Df Model:                           1                                         \n",
            "Covariance Type:            nonrobust                                         \n",
            "==============================================================================\n",
            "                 coef    std err          t      P>|t|      [0.025      0.975]\n",
            "------------------------------------------------------------------------------\n",
            "Intercept      5.0727      0.049    103.671      0.000       4.977       5.169\n",
            "educ           0.0760      0.004     18.799      0.000       0.068       0.084\n",
            "==============================================================================\n",
            "Omnibus:                     1232.070   Durbin-Watson:                   1.949\n",
            "Prob(Omnibus):                  0.000   Jarque-Bera (JB):             8379.766\n",
            "Skew:                          -1.298   Prob(JB):                         0.00\n",
            "Kurtosis:                       9.614   Cond. No.                         81.7\n",
            "==============================================================================\n",
            "\n",
            "Warnings:\n",
            "[1] Standard Errors assume that the covariance matrix of the errors is correctly specified.\n"
          ],
          "name": "stdout"
        }
      ]
    },
    {
      "metadata": {
        "id": "Xg5r7R-2x1eV",
        "colab_type": "code",
        "colab": {
          "autoexec": {
            "startup": false,
            "wait_interval": 0
          },
          "output_extras": [
            {
              "item_id": 1
            }
          ],
          "base_uri": "https://localhost:8080/",
          "height": 474
        },
        "outputId": "c41a0f04-5704-48cb-b839-17ebd379eaf9",
        "executionInfo": {
          "status": "ok",
          "timestamp": 1521814486474,
          "user_tz": 600,
          "elapsed": 774,
          "user": {
            "displayName": "Антон Николаев",
            "photoUrl": "https://lh3.googleusercontent.com/a/default-user=s128",
            "userId": "102661074732783089533"
          }
        }
      },
      "cell_type": "code",
      "source": [
        "dfM = df[df.SAMPLE_SEX == 1]\n",
        "print(len(dfM))\n",
        "\n",
        "results = smf.ols('logWage ~ educ', data=dfM).fit()\n",
        "\n",
        "\n",
        "print(results.summary())"
      ],
      "execution_count": 10,
      "outputs": [
        {
          "output_type": "stream",
          "text": [
            "4329\n",
            "                            OLS Regression Results                            \n",
            "==============================================================================\n",
            "Dep. Variable:                logWage   R-squared:                       0.065\n",
            "Model:                            OLS   Adj. R-squared:                  0.065\n",
            "Method:                 Least Squares   F-statistic:                     301.5\n",
            "Date:                Fri, 23 Mar 2018   Prob (F-statistic):           2.40e-65\n",
            "Time:                        14:14:46   Log-Likelihood:                -3196.8\n",
            "No. Observations:                4329   AIC:                             6398.\n",
            "Df Residuals:                    4327   BIC:                             6410.\n",
            "Df Model:                           1                                         \n",
            "Covariance Type:            nonrobust                                         \n",
            "==============================================================================\n",
            "                 coef    std err          t      P>|t|      [0.025      0.975]\n",
            "------------------------------------------------------------------------------\n",
            "Intercept      5.3256      0.048    111.096      0.000       5.232       5.420\n",
            "educ           0.0714      0.004     17.365      0.000       0.063       0.079\n",
            "==============================================================================\n",
            "Omnibus:                      973.113   Durbin-Watson:                   1.881\n",
            "Prob(Omnibus):                  0.000   Jarque-Bera (JB):             5702.141\n",
            "Skew:                          -0.942   Prob(JB):                         0.00\n",
            "Kurtosis:                       8.298   Cond. No.                         73.1\n",
            "==============================================================================\n",
            "\n",
            "Warnings:\n",
            "[1] Standard Errors assume that the covariance matrix of the errors is correctly specified.\n"
          ],
          "name": "stdout"
        }
      ]
    },
    {
      "metadata": {
        "id": "1nYGLQgrdr92",
        "colab_type": "text"
      },
      "cell_type": "markdown",
      "source": [
        "As we can see, females have stronger effect of education on the wage. Which is usually explained by the stronger selection bias due to discrimination.\n",
        "\n",
        "Now we include age, squared age, union coverage, marital status, SMSA residency and ethnicity, but no cognitive abilities and experience, for females and males respectively."
      ]
    },
    {
      "metadata": {
        "id": "Wxwbz9wff7zs",
        "colab_type": "code",
        "colab": {
          "autoexec": {
            "startup": false,
            "wait_interval": 0
          },
          "output_extras": [
            {
              "item_id": 1
            }
          ],
          "base_uri": "https://localhost:8080/",
          "height": 615
        },
        "outputId": "04e0eeb3-75c7-4759-d082-f5efe156c447",
        "executionInfo": {
          "status": "ok",
          "timestamp": 1521814487965,
          "user_tz": 600,
          "elapsed": 503,
          "user": {
            "displayName": "Антон Николаев",
            "photoUrl": "https://lh3.googleusercontent.com/a/default-user=s128",
            "userId": "102661074732783089533"
          }
        }
      },
      "cell_type": "code",
      "source": [
        "results = smf.ols('logWage ~ educ + age + ageSq + unionCoverage + marriage + smsa + black + hispanic', data=dfW).fit()\n",
        "\n",
        "print(results.summary())"
      ],
      "execution_count": 11,
      "outputs": [
        {
          "output_type": "stream",
          "text": [
            "                            OLS Regression Results                            \n",
            "==============================================================================\n",
            "Dep. Variable:                logWage   R-squared:                       0.119\n",
            "Model:                            OLS   Adj. R-squared:                  0.118\n",
            "Method:                 Least Squares   F-statistic:                     67.32\n",
            "Date:                Fri, 23 Mar 2018   Prob (F-statistic):          4.73e-104\n",
            "Time:                        14:14:48   Log-Likelihood:                -2481.0\n",
            "No. Observations:                3984   AIC:                             4980.\n",
            "Df Residuals:                    3975   BIC:                             5037.\n",
            "Df Model:                           8                                         \n",
            "Covariance Type:            nonrobust                                         \n",
            "=================================================================================\n",
            "                    coef    std err          t      P>|t|      [0.025      0.975]\n",
            "---------------------------------------------------------------------------------\n",
            "Intercept         4.2620      0.601      7.088      0.000       3.083       5.441\n",
            "educ              0.0481      0.005      9.355      0.000       0.038       0.058\n",
            "age               0.0782      0.062      1.260      0.208      -0.043       0.200\n",
            "ageSq            -0.0011      0.002     -0.685      0.493      -0.004       0.002\n",
            "unionCoverage     0.1576      0.022      7.035      0.000       0.114       0.202\n",
            "marriage         -0.0184      0.015     -1.228      0.220      -0.048       0.011\n",
            "smsa              0.0259      0.007      3.787      0.000       0.012       0.039\n",
            "black            -0.0776      0.018     -4.319      0.000      -0.113      -0.042\n",
            "hispanic          0.0497      0.034      1.471      0.141      -0.017       0.116\n",
            "==============================================================================\n",
            "Omnibus:                     1356.238   Durbin-Watson:                   1.954\n",
            "Prob(Omnibus):                  0.000   Jarque-Bera (JB):            10491.088\n",
            "Skew:                          -1.409   Prob(JB):                         0.00\n",
            "Kurtosis:                      10.434   Cond. No.                     3.45e+04\n",
            "==============================================================================\n",
            "\n",
            "Warnings:\n",
            "[1] Standard Errors assume that the covariance matrix of the errors is correctly specified.\n",
            "[2] The condition number is large, 3.45e+04. This might indicate that there are\n",
            "strong multicollinearity or other numerical problems.\n"
          ],
          "name": "stdout"
        }
      ]
    },
    {
      "metadata": {
        "id": "-YZ6ZVuLecFy",
        "colab_type": "code",
        "colab": {
          "autoexec": {
            "startup": false,
            "wait_interval": 0
          },
          "output_extras": [
            {
              "item_id": 1
            }
          ],
          "base_uri": "https://localhost:8080/",
          "height": 615
        },
        "outputId": "43fe9d5e-28b6-4aea-b987-c5caf5cf48bc",
        "executionInfo": {
          "status": "ok",
          "timestamp": 1521814489262,
          "user_tz": 600,
          "elapsed": 612,
          "user": {
            "displayName": "Антон Николаев",
            "photoUrl": "https://lh3.googleusercontent.com/a/default-user=s128",
            "userId": "102661074732783089533"
          }
        }
      },
      "cell_type": "code",
      "source": [
        "results = smf.ols('logWage ~ educ + age + ageSq + unionCoverage + marriage + smsa + black + hispanic', data=dfM).fit()\n",
        "\n",
        "print(results.summary())"
      ],
      "execution_count": 12,
      "outputs": [
        {
          "output_type": "stream",
          "text": [
            "                            OLS Regression Results                            \n",
            "==============================================================================\n",
            "Dep. Variable:                logWage   R-squared:                       0.183\n",
            "Model:                            OLS   Adj. R-squared:                  0.182\n",
            "Method:                 Least Squares   F-statistic:                     121.3\n",
            "Date:                Fri, 23 Mar 2018   Prob (F-statistic):          7.91e-184\n",
            "Time:                        14:14:49   Log-Likelihood:                -2903.9\n",
            "No. Observations:                4329   AIC:                             5826.\n",
            "Df Residuals:                    4320   BIC:                             5883.\n",
            "Df Model:                           8                                         \n",
            "Covariance Type:            nonrobust                                         \n",
            "=================================================================================\n",
            "                    coef    std err          t      P>|t|      [0.025      0.975]\n",
            "---------------------------------------------------------------------------------\n",
            "Intercept         2.9694      0.583      5.092      0.000       1.826       4.113\n",
            "educ              0.0227      0.005      4.852      0.000       0.014       0.032\n",
            "age               0.2164      0.060      3.604      0.000       0.099       0.334\n",
            "ageSq            -0.0038      0.002     -2.529      0.011      -0.007      -0.001\n",
            "unionCoverage     0.1782      0.019      9.212      0.000       0.140       0.216\n",
            "marriage          0.0910      0.019      4.910      0.000       0.055       0.127\n",
            "smsa              0.0307      0.007      4.545      0.000       0.017       0.044\n",
            "black            -0.1132      0.018     -6.405      0.000      -0.148      -0.079\n",
            "hispanic         -0.0149      0.033     -0.447      0.655      -0.080       0.050\n",
            "==============================================================================\n",
            "Omnibus:                     1108.649   Durbin-Watson:                   1.906\n",
            "Prob(Omnibus):                  0.000   Jarque-Bera (JB):             7350.228\n",
            "Skew:                          -1.053   Prob(JB):                         0.00\n",
            "Kurtosis:                       9.026   Cond. No.                     3.31e+04\n",
            "==============================================================================\n",
            "\n",
            "Warnings:\n",
            "[1] Standard Errors assume that the covariance matrix of the errors is correctly specified.\n",
            "[2] The condition number is large, 3.31e+04. This might indicate that there are\n",
            "strong multicollinearity or other numerical problems.\n"
          ],
          "name": "stdout"
        }
      ]
    },
    {
      "metadata": {
        "id": "ZnWpH7ghfiuu",
        "colab_type": "text"
      },
      "cell_type": "markdown",
      "source": [
        "Although the regression might be multicolinear at that point and the results don't match exactly with the original paper, we still see the same trends as in 1995 work: effect of the education goes down with the presence of controls, age and union coverage are strong positive signals for higher wage and being a minority will probably affect your wealth outcome not in a good way. Along with the Blackburn paper! Effect of education is still stronger for the females.\n",
        "\n",
        "Let's add the experience now!"
      ]
    },
    {
      "metadata": {
        "id": "5wqTxp5vdbuA",
        "colab_type": "code",
        "colab": {
          "autoexec": {
            "startup": false,
            "wait_interval": 0
          },
          "output_extras": [
            {
              "item_id": 1
            }
          ],
          "base_uri": "https://localhost:8080/",
          "height": 580
        },
        "outputId": "4ef180bc-59b7-40eb-9f44-ac8fa5fa0058",
        "executionInfo": {
          "status": "ok",
          "timestamp": 1521814491004,
          "user_tz": 600,
          "elapsed": 489,
          "user": {
            "displayName": "Антон Николаев",
            "photoUrl": "https://lh3.googleusercontent.com/a/default-user=s128",
            "userId": "102661074732783089533"
          }
        }
      },
      "cell_type": "code",
      "source": [
        "results = smf.ols('logWage ~ educ + experience + expSq + unionCoverage + marriage + smsa + black + hispanic', data=dfW).fit()\n",
        "\n",
        "print(results.summary())"
      ],
      "execution_count": 13,
      "outputs": [
        {
          "output_type": "stream",
          "text": [
            "                            OLS Regression Results                            \n",
            "==============================================================================\n",
            "Dep. Variable:                logWage   R-squared:                       0.141\n",
            "Model:                            OLS   Adj. R-squared:                  0.139\n",
            "Method:                 Least Squares   F-statistic:                     81.42\n",
            "Date:                Fri, 23 Mar 2018   Prob (F-statistic):          3.85e-125\n",
            "Time:                        14:14:51   Log-Likelihood:                -2431.8\n",
            "No. Observations:                3984   AIC:                             4882.\n",
            "Df Residuals:                    3975   BIC:                             4938.\n",
            "Df Model:                           8                                         \n",
            "Covariance Type:            nonrobust                                         \n",
            "=================================================================================\n",
            "                    coef    std err          t      P>|t|      [0.025      0.975]\n",
            "---------------------------------------------------------------------------------\n",
            "Intercept         5.1217      0.053     96.527      0.000       5.018       5.226\n",
            "educ              0.0572      0.004     13.317      0.000       0.049       0.066\n",
            "experience       -0.0319      0.093     -0.341      0.733      -0.215       0.151\n",
            "expSq             0.3935      0.097      4.047      0.000       0.203       0.584\n",
            "unionCoverage     0.1425      0.022      6.408      0.000       0.099       0.186\n",
            "marriage          0.0235      0.013      1.779      0.075      -0.002       0.049\n",
            "smsa              0.0276      0.007      4.084      0.000       0.014       0.041\n",
            "black            -0.0427      0.018     -2.382      0.017      -0.078      -0.008\n",
            "hispanic          0.0684      0.033      2.049      0.041       0.003       0.134\n",
            "==============================================================================\n",
            "Omnibus:                     1282.779   Durbin-Watson:                   1.948\n",
            "Prob(Omnibus):                  0.000   Jarque-Bera (JB):             9900.332\n",
            "Skew:                          -1.319   Prob(JB):                         0.00\n",
            "Kurtosis:                      10.258   Cond. No.                         232.\n",
            "==============================================================================\n",
            "\n",
            "Warnings:\n",
            "[1] Standard Errors assume that the covariance matrix of the errors is correctly specified.\n"
          ],
          "name": "stdout"
        }
      ]
    },
    {
      "metadata": {
        "id": "qPjCn8LNe01N",
        "colab_type": "code",
        "colab": {
          "autoexec": {
            "startup": false,
            "wait_interval": 0
          },
          "output_extras": [
            {
              "item_id": 1
            }
          ],
          "base_uri": "https://localhost:8080/",
          "height": 580
        },
        "outputId": "b5f280e0-67ab-4ee9-b4fd-9c7fae9cfcdd",
        "executionInfo": {
          "status": "ok",
          "timestamp": 1521814491774,
          "user_tz": 600,
          "elapsed": 413,
          "user": {
            "displayName": "Антон Николаев",
            "photoUrl": "https://lh3.googleusercontent.com/a/default-user=s128",
            "userId": "102661074732783089533"
          }
        }
      },
      "cell_type": "code",
      "source": [
        "results = smf.ols('logWage ~ educ + experience + expSq + unionCoverage + marriage + smsa + black + hispanic', data=dfM).fit()\n",
        "\n",
        "print(results.summary())"
      ],
      "execution_count": 14,
      "outputs": [
        {
          "output_type": "stream",
          "text": [
            "                            OLS Regression Results                            \n",
            "==============================================================================\n",
            "Dep. Variable:                logWage   R-squared:                       0.167\n",
            "Model:                            OLS   Adj. R-squared:                  0.166\n",
            "Method:                 Least Squares   F-statistic:                     108.5\n",
            "Date:                Fri, 23 Mar 2018   Prob (F-statistic):          1.38e-165\n",
            "Time:                        14:14:52   Log-Likelihood:                -2946.3\n",
            "No. Observations:                4329   AIC:                             5911.\n",
            "Df Residuals:                    4320   BIC:                             5968.\n",
            "Df Model:                           8                                         \n",
            "Covariance Type:            nonrobust                                         \n",
            "=================================================================================\n",
            "                    coef    std err          t      P>|t|      [0.025      0.975]\n",
            "---------------------------------------------------------------------------------\n",
            "Intercept         5.1754      0.052     99.671      0.000       5.074       5.277\n",
            "educ              0.0527      0.004     12.850      0.000       0.045       0.061\n",
            "experience        0.1164      0.098      1.192      0.233      -0.075       0.308\n",
            "expSq             0.2487      0.100      2.487      0.013       0.053       0.445\n",
            "unionCoverage     0.1732      0.020      8.815      0.000       0.135       0.212\n",
            "marriage          0.1515      0.018      8.576      0.000       0.117       0.186\n",
            "smsa              0.0335      0.007      4.919      0.000       0.020       0.047\n",
            "black            -0.0755      0.018     -4.219      0.000      -0.111      -0.040\n",
            "hispanic      -5.059e-05      0.034     -0.002      0.999      -0.066       0.066\n",
            "==============================================================================\n",
            "Omnibus:                     1141.162   Durbin-Watson:                   1.897\n",
            "Prob(Omnibus):                  0.000   Jarque-Bera (JB):             8126.025\n",
            "Skew:                          -1.067   Prob(JB):                         0.00\n",
            "Kurtosis:                       9.364   Cond. No.                         226.\n",
            "==============================================================================\n",
            "\n",
            "Warnings:\n",
            "[1] Standard Errors assume that the covariance matrix of the errors is correctly specified.\n"
          ],
          "name": "stdout"
        }
      ]
    },
    {
      "metadata": {
        "id": "3JVLrxPohru6",
        "colab_type": "text"
      },
      "cell_type": "markdown",
      "source": [
        "Strong multicollinearity could be the issue that gives the experience coefficient significanlty lower than in the original paper. Notice that effect of the education decreased again as predicted. Another explanation for insignificance of the experience might be the fact that I am using 1979-1981 data where respondents didn't have as much experience and thus the effect of the experience was lower compared to 1980-1985 used in the original study. Also, I don't get rid of self-employed people and agricultural workers, which might change importance of experience too."
      ]
    },
    {
      "metadata": {
        "id": "L8RpOm5BilGV",
        "colab_type": "code",
        "colab": {
          "autoexec": {
            "startup": false,
            "wait_interval": 0
          },
          "output_extras": [
            {
              "item_id": 1
            }
          ],
          "base_uri": "https://localhost:8080/",
          "height": 598
        },
        "outputId": "0efb2f2e-49e5-4a41-d988-f55c50cf9b0a",
        "executionInfo": {
          "status": "ok",
          "timestamp": 1521814492571,
          "user_tz": 600,
          "elapsed": 432,
          "user": {
            "displayName": "Антон Николаев",
            "photoUrl": "https://lh3.googleusercontent.com/a/default-user=s128",
            "userId": "102661074732783089533"
          }
        }
      },
      "cell_type": "code",
      "source": [
        "results = smf.ols('logWage ~ educ + experience + expSq + unionCoverage + marriage + smsa + black + hispanic + cognitiveAbilities', data=dfW).fit()\n",
        "\n",
        "print(results.summary())"
      ],
      "execution_count": 15,
      "outputs": [
        {
          "output_type": "stream",
          "text": [
            "                            OLS Regression Results                            \n",
            "==============================================================================\n",
            "Dep. Variable:                logWage   R-squared:                       0.145\n",
            "Model:                            OLS   Adj. R-squared:                  0.143\n",
            "Method:                 Least Squares   F-statistic:                     74.63\n",
            "Date:                Fri, 23 Mar 2018   Prob (F-statistic):          6.08e-128\n",
            "Time:                        14:14:53   Log-Likelihood:                -2423.0\n",
            "No. Observations:                3984   AIC:                             4866.\n",
            "Df Residuals:                    3974   BIC:                             4929.\n",
            "Df Model:                           9                                         \n",
            "Covariance Type:            nonrobust                                         \n",
            "======================================================================================\n",
            "                         coef    std err          t      P>|t|      [0.025      0.975]\n",
            "--------------------------------------------------------------------------------------\n",
            "Intercept              5.1936      0.056     93.314      0.000       5.084       5.303\n",
            "educ                   0.0489      0.005     10.364      0.000       0.040       0.058\n",
            "experience            -0.0214      0.093     -0.229      0.819      -0.204       0.161\n",
            "expSq                  0.3881      0.097      4.000      0.000       0.198       0.578\n",
            "unionCoverage          0.1475      0.022      6.636      0.000       0.104       0.191\n",
            "marriage               0.0312      0.013      2.349      0.019       0.005       0.057\n",
            "smsa                   0.0289      0.007      4.286      0.000       0.016       0.042\n",
            "black                 -0.0084      0.020     -0.428      0.669      -0.047       0.030\n",
            "hispanic               0.0885      0.034      2.629      0.009       0.023       0.155\n",
            "cognitiveAbilities     0.0008      0.000      4.194      0.000       0.000       0.001\n",
            "==============================================================================\n",
            "Omnibus:                     1258.232   Durbin-Watson:                   1.946\n",
            "Prob(Omnibus):                  0.000   Jarque-Bera (JB):             9566.391\n",
            "Skew:                          -1.294   Prob(JB):                         0.00\n",
            "Kurtosis:                      10.136   Cond. No.                         877.\n",
            "==============================================================================\n",
            "\n",
            "Warnings:\n",
            "[1] Standard Errors assume that the covariance matrix of the errors is correctly specified.\n"
          ],
          "name": "stdout"
        }
      ]
    },
    {
      "metadata": {
        "id": "yFhhEJB3kW3o",
        "colab_type": "code",
        "colab": {
          "autoexec": {
            "startup": false,
            "wait_interval": 0
          },
          "output_extras": [
            {
              "item_id": 1
            }
          ],
          "base_uri": "https://localhost:8080/",
          "height": 633
        },
        "outputId": "b51c9196-5724-4959-89f7-e48d6d177ece",
        "executionInfo": {
          "status": "ok",
          "timestamp": 1521814493383,
          "user_tz": 600,
          "elapsed": 442,
          "user": {
            "displayName": "Антон Николаев",
            "photoUrl": "https://lh3.googleusercontent.com/a/default-user=s128",
            "userId": "102661074732783089533"
          }
        }
      },
      "cell_type": "code",
      "source": [
        "results = smf.ols('logWage ~ educ + experience + expSq + unionCoverage + marriage + smsa + black + hispanic + cognitiveAbilities', data=dfM).fit()\n",
        "\n",
        "print(results.summary())"
      ],
      "execution_count": 16,
      "outputs": [
        {
          "output_type": "stream",
          "text": [
            "                            OLS Regression Results                            \n",
            "==============================================================================\n",
            "Dep. Variable:                logWage   R-squared:                       0.167\n",
            "Model:                            OLS   Adj. R-squared:                  0.166\n",
            "Method:                 Least Squares   F-statistic:                     96.45\n",
            "Date:                Fri, 23 Mar 2018   Prob (F-statistic):          1.38e-164\n",
            "Time:                        14:14:53   Log-Likelihood:                -2946.2\n",
            "No. Observations:                4329   AIC:                             5912.\n",
            "Df Residuals:                    4319   BIC:                             5976.\n",
            "Df Model:                           9                                         \n",
            "Covariance Type:            nonrobust                                         \n",
            "======================================================================================\n",
            "                         coef    std err          t      P>|t|      [0.025      0.975]\n",
            "--------------------------------------------------------------------------------------\n",
            "Intercept              5.1660      0.057     90.002      0.000       5.054       5.279\n",
            "educ                   0.0537      0.005     11.121      0.000       0.044       0.063\n",
            "experience             0.1154      0.098      1.181      0.238      -0.076       0.307\n",
            "expSq                  0.2486      0.100      2.486      0.013       0.053       0.445\n",
            "unionCoverage          0.1728      0.020      8.782      0.000       0.134       0.211\n",
            "marriage               0.1509      0.018      8.514      0.000       0.116       0.186\n",
            "smsa                   0.0335      0.007      4.922      0.000       0.020       0.047\n",
            "black                 -0.0791      0.020     -3.922      0.000      -0.119      -0.040\n",
            "hispanic              -0.0019      0.034     -0.056      0.955      -0.069       0.065\n",
            "cognitiveAbilities  -6.84e-05      0.000     -0.384      0.701      -0.000       0.000\n",
            "==============================================================================\n",
            "Omnibus:                     1142.043   Durbin-Watson:                   1.897\n",
            "Prob(Omnibus):                  0.000   Jarque-Bera (JB):             8127.812\n",
            "Skew:                          -1.068   Prob(JB):                         0.00\n",
            "Kurtosis:                       9.364   Cond. No.                     1.03e+03\n",
            "==============================================================================\n",
            "\n",
            "Warnings:\n",
            "[1] Standard Errors assume that the covariance matrix of the errors is correctly specified.\n",
            "[2] The condition number is large, 1.03e+03. This might indicate that there are\n",
            "strong multicollinearity or other numerical problems.\n"
          ],
          "name": "stdout"
        }
      ]
    },
    {
      "metadata": {
        "id": "cZ7iJRYRkhwc",
        "colab_type": "text"
      },
      "cell_type": "markdown",
      "source": [
        "As concluded by the paper, adding estimates of cognitive abilities lower importance of education (for females). At this point, due to the fact that in my replication I derive different estimate for cognitive abilities the disparity is significantly higher and for the males cognitive abilities are not an important factor at all (maybe because I am not getting rid of self-employed and agricultural workers)"
      ]
    },
    {
      "metadata": {
        "id": "ezruIn2BisBK",
        "colab_type": "code",
        "colab": {
          "autoexec": {
            "startup": false,
            "wait_interval": 0
          },
          "output_extras": [
            {
              "item_id": 1
            }
          ],
          "base_uri": "https://localhost:8080/",
          "height": 598
        },
        "outputId": "564ec524-7a8a-4051-ac22-1913ff2b2e52",
        "executionInfo": {
          "status": "ok",
          "timestamp": 1521814494130,
          "user_tz": 600,
          "elapsed": 423,
          "user": {
            "displayName": "Антон Николаев",
            "photoUrl": "https://lh3.googleusercontent.com/a/default-user=s128",
            "userId": "102661074732783089533"
          }
        }
      },
      "cell_type": "code",
      "source": [
        "results = smf.ols('logWage ~ educ + tenure + unionCoverage + marriage + smsa + black + hispanic', data=dfM).fit()\n",
        "\n",
        "print(results.summary())"
      ],
      "execution_count": 17,
      "outputs": [
        {
          "output_type": "stream",
          "text": [
            "                            OLS Regression Results                            \n",
            "==============================================================================\n",
            "Dep. Variable:                logWage   R-squared:                       0.138\n",
            "Model:                            OLS   Adj. R-squared:                  0.136\n",
            "Method:                 Least Squares   F-statistic:                     98.49\n",
            "Date:                Fri, 23 Mar 2018   Prob (F-statistic):          5.85e-134\n",
            "Time:                        14:14:54   Log-Likelihood:                -3022.2\n",
            "No. Observations:                4329   AIC:                             6060.\n",
            "Df Residuals:                    4321   BIC:                             6111.\n",
            "Df Model:                           7                                         \n",
            "Covariance Type:            nonrobust                                         \n",
            "=================================================================================\n",
            "                    coef    std err          t      P>|t|      [0.025      0.975]\n",
            "---------------------------------------------------------------------------------\n",
            "Intercept         5.1038      0.052     98.286      0.000       5.002       5.206\n",
            "educ              0.0630      0.004     15.652      0.000       0.055       0.071\n",
            "tenure            0.0003   6.06e-05      4.580      0.000       0.000       0.000\n",
            "unionCoverage     0.2071      0.020     10.472      0.000       0.168       0.246\n",
            "marriage          0.2025      0.017     11.585      0.000       0.168       0.237\n",
            "smsa              0.0317      0.007      4.568      0.000       0.018       0.045\n",
            "black            -0.0945      0.018     -5.211      0.000      -0.130      -0.059\n",
            "hispanic          0.0053      0.034      0.156      0.876      -0.062       0.073\n",
            "==============================================================================\n",
            "Omnibus:                     1096.511   Durbin-Watson:                   1.898\n",
            "Prob(Omnibus):                  0.000   Jarque-Bera (JB):             7358.087\n",
            "Skew:                          -1.036   Prob(JB):                         0.00\n",
            "Kurtosis:                       9.042   Cond. No.                     1.07e+03\n",
            "==============================================================================\n",
            "\n",
            "Warnings:\n",
            "[1] Standard Errors assume that the covariance matrix of the errors is correctly specified.\n",
            "[2] The condition number is large, 1.07e+03. This might indicate that there are\n",
            "strong multicollinearity or other numerical problems.\n"
          ],
          "name": "stdout"
        }
      ]
    },
    {
      "metadata": {
        "id": "5zBvYEUpCBk5",
        "colab_type": "text"
      },
      "cell_type": "markdown",
      "source": [
        "Replacing experience with tenure does not change much.\n",
        "\n",
        "Overidentification test and Hausman test."
      ]
    },
    {
      "metadata": {
        "id": "blBv-9X-TsIl",
        "colab_type": "text"
      },
      "cell_type": "markdown",
      "source": [
        "Asymptotically Hausman test converges to F-test which means we can just look at the F-value, which leaves us with the result that the paper was correct saying that regression of wage on education by itself would result in overstated effect of the education.\n",
        "The fact that condition number is large says that there might be an overidentification problem."
      ]
    },
    {
      "metadata": {
        "id": "M9obIA_SUuQE",
        "colab_type": "text"
      },
      "cell_type": "markdown",
      "source": [
        "## Conclusion\n",
        "It is a great paper. Main results were replicated, whilst some more complicated techniques and data selection process were simplified, which still gives the results stated in the article. As a personal result, I got to investigate the NSLY dataset structure and statistical models in Python package."
      ]
    }
  ]
}